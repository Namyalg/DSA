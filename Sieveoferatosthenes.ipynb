{
  "nbformat": 4,
  "nbformat_minor": 0,
  "metadata": {
    "colab": {
      "name": "Sieveoferatosthenes.ipynb",
      "provenance": [],
      "authorship_tag": "ABX9TyNcbbwOtbYChD1Y344YEaJ7",
      "include_colab_link": true
    },
    "kernelspec": {
      "name": "python3",
      "display_name": "Python 3"
    }
  },
  "cells": [
    {
      "cell_type": "markdown",
      "metadata": {
        "id": "view-in-github",
        "colab_type": "text"
      },
      "source": [
        "<a href=\"https://colab.research.google.com/github/Namyalg/DSA/blob/master/Sieveoferatosthenes.ipynb\" target=\"_parent\"><img src=\"https://colab.research.google.com/assets/colab-badge.svg\" alt=\"Open In Colab\"/></a>"
      ]
    },
    {
      "cell_type": "code",
      "metadata": {
        "id": "Zw_m1kFAvp0p",
        "colab_type": "code",
        "colab": {}
      },
      "source": [
        "#The logic behind this algorithm is that, start from a number n, eg 2, to find the primes between 2 and 36.\n",
        "\n",
        "#Start with 2, cross out all mutliples of 2\n",
        "#Move the next number that is not crossed, then cross out all its multiples...do the same till , u reach sqrt(maxvalue)\n",
        "#HEre this goes on till 6, the numbers which are multiples are crossed\n",
        "\n",
        "#Best is to assign the array to True, then cross and assign as False\n",
        "\n",
        "\n",
        "#The ones which are true will be the prime  numbers\n"
      ],
      "execution_count": null,
      "outputs": []
    },
    {
      "cell_type": "code",
      "metadata": {
        "id": "ly-SEDlsxiwD",
        "colab_type": "code",
        "colab": {
          "base_uri": "https://localhost:8080/",
          "height": 833
        },
        "outputId": "e62c7bc9-36a7-4b0f-dbb0-ac2dd5ba3c03"
      },
      "source": [
        "#To get primes from 2 to 200\n",
        "n = 200\n",
        "d = [True for i in range(n+1)]\n",
        "from math import sqrt\n",
        "\n",
        "\n",
        "#Here the outerloop goes to sqrt(n) \n",
        "for i in range(2, int(sqrt(n))):\n",
        "  #starting from 2 to sqrt of n , u need to go only until sqrt(n) as it will be a repetition after it\n",
        "  for j in range(i*i,n+1,i):\n",
        "    #The sum of a GP or reciprocals is log(log(n))\n",
        "    #This is O(n) as u got throught the entire array always\n",
        "      d[j] = False\n",
        "\n",
        "for i in range(n+1):\n",
        "  if d[i]:\n",
        "    print(i)\n",
        "\n",
        "\n",
        "#SIEVE OF ERATOSTHENES\n",
        "#SO OVERALL OPTIMIZED ANSWER is O(sqrt(N)*log(log(N)))\n"
      ],
      "execution_count": 6,
      "outputs": [
        {
          "output_type": "stream",
          "text": [
            "0\n",
            "1\n",
            "2\n",
            "3\n",
            "5\n",
            "7\n",
            "11\n",
            "13\n",
            "17\n",
            "19\n",
            "23\n",
            "29\n",
            "31\n",
            "37\n",
            "41\n",
            "43\n",
            "47\n",
            "53\n",
            "59\n",
            "61\n",
            "67\n",
            "71\n",
            "73\n",
            "79\n",
            "83\n",
            "89\n",
            "97\n",
            "101\n",
            "103\n",
            "107\n",
            "109\n",
            "113\n",
            "127\n",
            "131\n",
            "137\n",
            "139\n",
            "149\n",
            "151\n",
            "157\n",
            "163\n",
            "167\n",
            "173\n",
            "179\n",
            "181\n",
            "191\n",
            "193\n",
            "197\n",
            "199\n"
          ],
          "name": "stdout"
        }
      ]
    },
    {
      "cell_type": "code",
      "metadata": {
        "id": "sAiVWwIGy1BN",
        "colab_type": "code",
        "colab": {}
      },
      "source": [
        ""
      ],
      "execution_count": null,
      "outputs": []
    }
  ]
}